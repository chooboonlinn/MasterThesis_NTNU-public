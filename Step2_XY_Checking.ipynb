{
 "cells": [
  {
   "cell_type": "code",
   "execution_count": null,
   "metadata": {},
   "outputs": [],
   "source": [
    "import os\n",
    "import pandas as pd\n",
    "import numpy as np\n",
    "import matplotlib.pyplot as plt\n",
    "import matplotlib.image as mpimg\n",
    "from pandas import DataFrame"
   ]
  },
  {
   "cell_type": "code",
   "execution_count": null,
   "metadata": {},
   "outputs": [],
   "source": [
    "#%run ./CommonFunctions_OthersGeneral.ipynb  ## This is important for library import, getting the path and runlist"
   ]
  },
  {
   "cell_type": "code",
   "execution_count": null,
   "metadata": {
    "scrolled": true
   },
   "outputs": [],
   "source": [
    "for num in runlist:\n",
    "    run_name = (f'Run{num}')\n",
    "    \n",
    "    ## To plot a topography of every run overlayed using the XY ##\n",
    "\n",
    "    tablefile = (dir6 + \"Table_\" + run_name + \".csv\")\n",
    "    run = pd.read_csv(tablefile)\n",
    "    plt.plot(run['X'], run['Y'], '.')\n",
    "plt.savefig(dir7 + 'AllRun_overlayedXY.png')\n",
    "plt.clf()\n",
    "#plt.show()\n",
    "\n",
    "\n",
    "for num in runlist:\n",
    "    run_name = (f'Run{num}')\n",
    "    \n",
    "    ## To plot a topography of each run using the XY ##\n",
    "    \n",
    "    tablefile = (dir6 + \"Table_\" + run_name + \".csv\")\n",
    "    run = pd.read_csv(tablefile)\n",
    "    plt.plot(run['X'], run['Y'], '.')\n",
    "    plt.savefig(dir7 + run_name + '.png')\n",
    "    #plt.show()\n",
    "    plt.clf() \n",
    "       \n",
    "    ## To plot the 8 different angles of a single positioned building together ##\n",
    "    \n",
    "    fullpath = (dir8 + run_name)\n",
    "    folder = [fullpath]\n",
    "    \n",
    "    for directory in folder: ## Make a folder of each run\n",
    "        if not os.path.exists(directory):\n",
    "            os.makedirs(directory)\n",
    "    \n",
    "    # Count the length of TrialLockX / TrialLockY in Related Run #\n",
    "    filename_ini = (f\"Default_deeploGame_{num}.csv\")\n",
    "    df_ini = pd.read_csv(dir3 + filename_ini)\n",
    "    count_ini = len(df_ini.index)/2\n",
    "\n",
    "    # Save only every 100th image starting from the first via Simplified version    \n",
    "    for num in list(range(1, int(count_ini) + 1, 100)):\n",
    "        run_view = run[run['ViewNum'] == num]\n",
    "        fig, axes = plt.subplots(1,8, figsize=(15, 3))\n",
    "        axes = axes.flatten()\n",
    "        \n",
    "        for idx, ax in enumerate(axes):\n",
    "            run_view['ScreenShotPath'].reset_index(drop=True, inplace=True) # To always reset the index to 0 till 7\n",
    "            file_path = (run_view['ScreenShotPath'])[idx]\n",
    "            img=mpimg.imread(file_path)\n",
    "            \n",
    "            ax.matshow(img ,aspect='auto')    \n",
    "        \n",
    "        fig.savefig(fullpath + '/' + run_name + '_' + str(num) + '.png')\n",
    "        fig.clf()"
   ]
  },
  {
   "cell_type": "code",
   "execution_count": null,
   "metadata": {},
   "outputs": [],
   "source": []
  },
  {
   "cell_type": "code",
   "execution_count": null,
   "metadata": {},
   "outputs": [],
   "source": [
    "runlist = [1]"
   ]
  },
  {
   "cell_type": "code",
   "execution_count": null,
   "metadata": {
    "scrolled": true
   },
   "outputs": [],
   "source": [
    "# TEMP - 270520\n",
    "\n",
    "for num in runlist:\n",
    "    run_name = (f'Run{num}')\n",
    "    \n",
    "    tablefile = (dir6 + \"Table_\" + run_name + \".csv\")\n",
    "    run = pd.read_csv(tablefile)\n",
    "           \n",
    "    ## To plot the 8 different angles of a single positioned building together ##\n",
    "    \n",
    "    fullpath = (dir8 + run_name)\n",
    "    folder = [fullpath]\n",
    "    \n",
    "    for directory in folder: ## Make a folder of each run\n",
    "        if not os.path.exists(directory):\n",
    "            os.makedirs(directory)\n",
    "    \n",
    "    # Count the length of TrialLockX / TrialLockY in Related Run #\n",
    "    filename_ini = (f\"Default_deeploGame_{num}.csv\")\n",
    "    df_ini = pd.read_csv(dir3 + filename_ini)\n",
    "    count_ini = len(df_ini.index)/2\n",
    "\n",
    "    # Save only every 100th image starting from the first via Simplified version    \n",
    "    for num in list(range(1, int(count_ini) + 1, 100)):\n",
    "        run_view = run[run['ViewNum'] == num]\n",
    "        fig, axes = plt.subplots(1,8, figsize=(15, 3))\n",
    "        axes = axes.flatten()\n",
    "        \n",
    "        for idx, ax in enumerate(axes):\n",
    "            run_view['ScreenShotPath'].reset_index(drop=True, inplace=True) # To always reset the index to 0 till 7\n",
    "            file_path = (run_view['ScreenShotPath'])[idx]\n",
    "            img=mpimg.imread(file_path)\n",
    "            \n",
    "            ax.matshow(img ,aspect='auto')    \n",
    "        fig.tight_layout()\n",
    "        fig.savefig(fullpath + '/' + run_name + '_' + str(num) + '.png')\n",
    "        fig.clf()"
   ]
  },
  {
   "cell_type": "code",
   "execution_count": null,
   "metadata": {},
   "outputs": [],
   "source": []
  }
 ],
 "metadata": {
  "kernelspec": {
   "display_name": "Python 3",
   "language": "python",
   "name": "python3"
  },
  "language_info": {
   "codemirror_mode": {
    "name": "ipython",
    "version": 3
   },
   "file_extension": ".py",
   "mimetype": "text/x-python",
   "name": "python",
   "nbconvert_exporter": "python",
   "pygments_lexer": "ipython3",
   "version": "3.7.4"
  }
 },
 "nbformat": 4,
 "nbformat_minor": 2
}
