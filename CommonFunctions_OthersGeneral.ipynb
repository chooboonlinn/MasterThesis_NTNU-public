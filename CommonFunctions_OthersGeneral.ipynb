{
 "cells": [
  {
   "cell_type": "code",
   "execution_count": null,
   "metadata": {},
   "outputs": [],
   "source": [
    "# -*- coding: utf-8 -*-"
   ]
  },
  {
   "cell_type": "code",
   "execution_count": null,
   "metadata": {},
   "outputs": [],
   "source": [
    "import os"
   ]
  },
  {
   "cell_type": "code",
   "execution_count": null,
   "metadata": {},
   "outputs": [],
   "source": [
    "# General1: PathDeclaration\n",
    "\n",
    "## Path declaration for consistency and minimalist in coding ##\n",
    "\n",
    "default_path = \"/mnt/7E9E38C59E3877AB/Snapshot_data/\"\n",
    "sorted_path = \"Analysis_TableSorting/\"\n",
    "runcontent_path = \"RunContent/\"\n",
    "csv_path = \"INIintoCSV/\"\n",
    "ini_path = \"INI_Files/\"\n",
    "snapshots_path = \"Snapshots/\"\n",
    "combinetables_path = \"CombineTables/\"\n",
    "XYplot_path = \"XYplot_path/\"\n",
    "headingDirPlot_path = \"headingDirPlot_path/\"\n",
    "allImagesInOne_path = \"allImagesInOne_path/\"\n",
    "dataConversionCSV = \"dataConversionCSV/\"\n",
    "cnn_path = \"CNN_Model/\"\n",
    "snapshotsNorm_path = \"Snapshots_Normalized/\"\n",
    "ratemap_path = \"Ratemap/\"\n",
    "model_path = \"CNN_Summary/\"\n",
    "heatmap_path = \"Heatmap/\"\n",
    "trainingplot_path = \"TrainingPlot/\"\n",
    "anglespredictionplot_path = \"AnglesPredictionPlot/\"\n",
    "hiddenActivationLinearPlot_path = \"HiddenAct_1DPlot/\"\n",
    "overlayRatemap_path = \"OverlayRatemap_HiddenActBased/\"\n",
    "overlayHeatmap_path = \"OverlayHeatmap_HiddenActBased/\"\n",
    "errorCalc_path = \"Error_Calculations/\"\n",
    "randomNormalizationCheck_path = \"Random_NormCheck/\"\n",
    "kerasHistoryCallbacks_path = 'kerasCallbacks/' #'Try/kerasCallbacks/'\n",
    "\n",
    "## Define all path combinations here ##\n",
    "\n",
    "dir1 = default_path + sorted_path\n",
    "dir2 = default_path + sorted_path + runcontent_path\n",
    "dir3 = default_path + sorted_path + csv_path\n",
    "dir4 = default_path + ini_path\n",
    "dir5 = default_path + snapshots_path\n",
    "dir6 = default_path + sorted_path + combinetables_path\n",
    "dir7 = default_path + sorted_path + XYplot_path\n",
    "dir8 = default_path + sorted_path + headingDirPlot_path\n",
    "#dir9 = default_path + allImagesInOne_path # Not needed anymore\n",
    "#dir10 = default_path + dataConversionCSV # Not needed anymore\n",
    "dir11 = default_path + sorted_path + cnn_path\n",
    "#dir12 = default_path + snapshotsNorm_path # Not needed anymore\n",
    "dir13 = default_path + sorted_path + ratemap_path\n",
    "dir14 = default_path + sorted_path + model_path\n",
    "dir15 = default_path + sorted_path + heatmap_path\n",
    "dir16 = default_path + sorted_path + trainingplot_path\n",
    "dir17 = default_path + sorted_path + anglespredictionplot_path\n",
    "dir18 = default_path + sorted_path + hiddenActivationLinearPlot_path\n",
    "dir19 = default_path + sorted_path + overlayRatemap_path\n",
    "dir20 = default_path + sorted_path + overlayHeatmap_path\n",
    "dir21 = default_path + sorted_path + errorCalc_path\n",
    "dir22 = default_path + sorted_path + randomNormalizationCheck_path\n",
    "dir23 = default_path + sorted_path + kerasHistoryCallbacks_path\n",
    "\n",
    "totalpath = list(range(1, (23 + 1), 1)) #start number, #end_notIncluded_number (Total number of folder +1), different between each 1st and 2nd number\n",
    "\n",
    "all_directories =[]\n",
    "\n",
    "for i in totalpath:\n",
    "    dir = vars()[f\"dir{i}\"]\n",
    "    all_directories.append(dir)\n",
    "    \n",
    "# all_directories = [dir1, dir2, dir3, dir4, dir5, dir6] # this can support Lines from \"totalpath till the last line above\"\n",
    "\n",
    "\n",
    "## Making path if not exists ##\n",
    "\n",
    "for my_dir in all_directories:\n",
    "    if not os.path.exists(my_dir):\n",
    "        os.makedirs(my_dir)"
   ]
  },
  {
   "cell_type": "code",
   "execution_count": null,
   "metadata": {},
   "outputs": [],
   "source": [
    "# General2: GrepRunList\n",
    "\n",
    "## Grepping Run number (dir5)\n",
    "\n",
    "runlist = []\n",
    "    \n",
    "for r, d, f in os.walk(dir5):\n",
    "    for foldername in d:\n",
    "        newname = foldername.strip('Run')\n",
    "        runlist.append(newname)\n",
    "\n",
    "runlist = [int(x) for x in runlist]\n",
    "runlist.sort(reverse=False)\n",
    "runlist = runlist"
   ]
  },
  {
   "cell_type": "code",
   "execution_count": null,
   "metadata": {},
   "outputs": [],
   "source": []
  }
 ],
 "metadata": {
  "kernelspec": {
   "display_name": "Python 3",
   "language": "python",
   "name": "python3"
  },
  "language_info": {
   "codemirror_mode": {
    "name": "ipython",
    "version": 3
   },
   "file_extension": ".py",
   "mimetype": "text/x-python",
   "name": "python",
   "nbconvert_exporter": "python",
   "pygments_lexer": "ipython3",
   "version": "3.7.4"
  }
 },
 "nbformat": 4,
 "nbformat_minor": 2
}
